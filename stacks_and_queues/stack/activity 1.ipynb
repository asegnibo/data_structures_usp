{
 "cells": [
  {
   "cell_type": "markdown",
   "id": "89949080",
   "metadata": {},
   "source": [
    "Cada projeto segue um conjunto padrão de etapas, que devem ser realizadas\n",
    "em sequência. \n",
    "\n",
    "No entanto, diferentes etapas de um mesmo projeto podem ser executadas por\n",
    "diferentes equipes, desde que a etapa anterior tenha sido concluída\n",
    "\n",
    "alocar projetos e suas etapas às equipes, de forma justa e eficiente\n",
    "\n",
    "Cada projeto segue obrigatoriamente as seguintes etapas sequenciais:\n",
    "1. Coleta de dados\n",
    "2. Pré-processamento e limpeza dos dados\n",
    "3. Análise exploratória dos dados\n",
    "4. Modelagem estatística / preditiva\n",
    "5. Validação e avaliação do modelo\n",
    "6. Geração de relatório e apresentação dos resultados\n",
    "\n",
    "Primeira linha: número de equipes disponíveis (inteiro)\n",
    "• Segunda linha: número de projetos (inteiro)\n",
    "• Linhas seguintes: para cada projeto, uma linha com 6 inteiros, representando o tempo\n",
    "(em horas) de execução de cada uma das etapas, separados por espaço simples"
   ]
  },
  {
   "cell_type": "markdown",
   "id": "d5670e88",
   "metadata": {},
   "source": [
    "Entrada\n",
    "3  -> numero de equipes\n",
    "2  -> numero de projetos\n",
    "2 3 4 5 2 1  -> tempo(hrs) para cada etapa (6 etapas)\n",
    "1 2 2 3 2 1\n",
    "\n",
    "saida\n",
    "Projeto 1\n",
    "Etapa 1 1 0 2\n",
    "Etapa 2 2 2 5\n",
    "Etapa 3 3 5 9\n",
    "Etapa 4 3 9 14\n",
    "Etapa 5 1 14 16\n",
    "Etapa 6 2 16 17\n",
    "Projeto 2\n",
    "Etapa 1 2 0 1\n",
    "Etapa 2 3 1 3\n",
    "Etapa 3 1 3 5\n",
    "Etapa 4 1 5 8\n",
    "Etapa 5 2 8 10\n",
    "Etapa 6 2 10 11\n",
    "Equipe 1 9 horas\n",
    "Equipe 2 8 horas\n",
    "Equipe 3 11 horas\n"
   ]
  },
  {
   "cell_type": "code",
   "execution_count": null,
   "id": "80a2205a",
   "metadata": {},
   "outputs": [
    {
     "name": "stdout",
     "output_type": "stream",
     "text": [
      "{1: 17, 2: 11}\n"
     ]
    }
   ],
   "source": [
    "class Node:\n",
    "    def __init__(self, data):\n",
    "        self.data = data\n",
    "        self.topo = None\n",
    "    \n",
    "n_equipes = int(input())\n",
    "n_projetos = int(input())\n",
    "\n",
    "projetos = {}\n",
    "for i in range(n_projetos):\n",
    "    horas_projeto = list(map(int,input().split()))\n",
    "    projetos[i+1] = horas_projeto\n",
    "\n",
    "\n",
    "print(projetos)"
   ]
  },
  {
   "cell_type": "code",
   "execution_count": 27,
   "id": "d7745404",
   "metadata": {},
   "outputs": [
    {
     "name": "stdout",
     "output_type": "stream",
     "text": [
      "[2, 3, 4, 5, 2, 1]\n"
     ]
    }
   ],
   "source": [
    "horas_projeto = list(map(int,input().split()))\n",
    "print(horas_projeto)"
   ]
  }
 ],
 "metadata": {
  "language_info": {
   "name": "python"
  }
 },
 "nbformat": 4,
 "nbformat_minor": 5
}
