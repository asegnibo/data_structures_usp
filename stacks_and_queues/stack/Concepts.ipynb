{
 "cells": [
  {
   "cell_type": "code",
   "execution_count": 9,
   "id": "1d80eb6d",
   "metadata": {},
   "outputs": [],
   "source": [
    "class Node:\n",
    "    def __init__(self, data):\n",
    "        self.data = data\n",
    "        self.next = None"
   ]
  },
  {
   "cell_type": "code",
   "execution_count": 18,
   "id": "f35c6fad",
   "metadata": {},
   "outputs": [],
   "source": [
    "# Inserir na pilha \n",
    "# remover da pilha \n",
    "# observar o topo da pilha \n",
    "\n",
    "class Stack:\n",
    "    def __init__(self):\n",
    "        self.top = None\n",
    "        self._size = 0\n",
    "\n",
    "    def push(self, elem): \n",
    "        #insere um elemento na pilha\n",
    "        node = Node(elem)\n",
    "        node.next = self.top\n",
    "        self.top = node\n",
    "        self._size = self._size +1\n",
    "\n",
    "    def pop(self):\n",
    "        #remove o elemento do topo da pilha\n",
    "        if self._size > 0:\n",
    "            node = self.top\n",
    "            self.top = self.top.next\n",
    "            self._size = self._size - 1\n",
    "            return node.data\n",
    "        raise IndexError(\"The stack is empty\")\n",
    "\n",
    "    def peek(self):\n",
    "        #retorna o topo da pilha sem remover\n",
    "        if self._size > 0:\n",
    "            return self.top.data\n",
    "        raise IndexError(\"The stack is empty\")\n",
    "\n",
    "    def __len__(self):\n",
    "        return self._size\n",
    "    \n",
    "    def __repr__(self):\n",
    "        r = \"\"\n",
    "        pointer = self.top\n",
    "        while(pointer):\n",
    "            r = r + str(pointer.data) + \"\\n\"\n",
    "            pointer = pointer.next\n",
    "        return r\n",
    "\n",
    "    def __str__(self):\n",
    "        return self.__repr__()"
   ]
  },
  {
   "cell_type": "code",
   "execution_count": 23,
   "id": "3c6f6e8d",
   "metadata": {},
   "outputs": [
    {
     "ename": "IndexError",
     "evalue": "The stack is empty",
     "output_type": "error",
     "traceback": [
      "\u001b[31m---------------------------------------------------------------------------\u001b[39m",
      "\u001b[31mIndexError\u001b[39m                                Traceback (most recent call last)",
      "\u001b[36mCell\u001b[39m\u001b[36m \u001b[39m\u001b[32mIn[23]\u001b[39m\u001b[32m, line 16\u001b[39m\n\u001b[32m     14\u001b[39m pilha.pop()\n\u001b[32m     15\u001b[39m pilha.pop()\n\u001b[32m---> \u001b[39m\u001b[32m16\u001b[39m \u001b[43mpilha\u001b[49m\u001b[43m.\u001b[49m\u001b[43mpop\u001b[49m\u001b[43m(\u001b[49m\u001b[43m)\u001b[49m\n\u001b[32m     19\u001b[39m \u001b[38;5;28mprint\u001b[39m(pilha)\n",
      "\u001b[36mCell\u001b[39m\u001b[36m \u001b[39m\u001b[32mIn[18]\u001b[39m\u001b[32m, line 24\u001b[39m, in \u001b[36mStack.pop\u001b[39m\u001b[34m(self)\u001b[39m\n\u001b[32m     22\u001b[39m     \u001b[38;5;28mself\u001b[39m._size = \u001b[38;5;28mself\u001b[39m._size - \u001b[32m1\u001b[39m\n\u001b[32m     23\u001b[39m     \u001b[38;5;28;01mreturn\u001b[39;00m node.data\n\u001b[32m---> \u001b[39m\u001b[32m24\u001b[39m \u001b[38;5;28;01mraise\u001b[39;00m \u001b[38;5;167;01mIndexError\u001b[39;00m(\u001b[33m\"\u001b[39m\u001b[33mThe stack is empty\u001b[39m\u001b[33m\"\u001b[39m)\n",
      "\u001b[31mIndexError\u001b[39m: The stack is empty"
     ]
    }
   ],
   "source": [
    "pilha = Stack()\n",
    "pilha.push(3)\n",
    "pilha.push(7)\n",
    "pilha.push('Python')\n",
    "pilha.push(True)\n",
    "pilha.push(\"sucesso\")\n",
    "pilha.push(1.2)\n",
    "\n",
    "pilha.peek()\n",
    "pilha.pop()\n",
    "pilha.pop()\n",
    "pilha.pop()\n",
    "pilha.pop()\n",
    "pilha.pop()\n",
    "pilha.pop()\n",
    "pilha.pop()\n",
    "\n",
    "\n",
    "print(pilha)"
   ]
  }
 ],
 "metadata": {
  "kernelspec": {
   "display_name": "Python 3",
   "language": "python",
   "name": "python3"
  },
  "language_info": {
   "codemirror_mode": {
    "name": "ipython",
    "version": 3
   },
   "file_extension": ".py",
   "mimetype": "text/x-python",
   "name": "python",
   "nbconvert_exporter": "python",
   "pygments_lexer": "ipython3",
   "version": "3.13.3"
  }
 },
 "nbformat": 4,
 "nbformat_minor": 5
}
